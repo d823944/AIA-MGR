{
 "cells": [
  {
   "cell_type": "code",
   "execution_count": 2,
   "metadata": {},
   "outputs": [],
   "source": [
    "%matplotlib inline\n",
    "import numpy as np\n",
    "import pandas as pd\n",
    "import matplotlib.pyplot as plt\n",
    "import seaborn as sns\n",
    "plt.style.use('ggplot')"
   ]
  },
  {
   "cell_type": "code",
   "execution_count": 3,
   "metadata": {},
   "outputs": [
    {
     "name": "stdout",
     "output_type": "stream",
     "text": [
      "x1 mean = 9.00\t\tx1 std = 3.32\n",
      "y1 mean = 7.50\t\ty1 std = 2.03\n",
      "x2 mean = 9.00\t\tx2 std = 3.32\n",
      "y2 mean = 7.50\t\ty2 std = 2.03\n",
      "x3 mean = 9.00\t\tx3 std = 3.32\n",
      "y3 mean = 7.50\t\ty3 std = 2.03\n",
      "x4 mean = 9.00\t\tx4 std = 3.32\n",
      "y4 mean = 7.50\t\ty4 std = 2.03\n"
     ]
    }
   ],
   "source": [
    "df = pd.read_csv('anscombe_quartet.csv')\n",
    "for col in df:\n",
    "    print(\n",
    "        f'{col} mean = {df[col].mean():.2f}\\t\\t'\n",
    "        f'{col} std = {df[col].std():.2f}'\n",
    "    )"
   ]
  },
  {
   "cell_type": "code",
   "execution_count": 4,
   "metadata": {},
   "outputs": [
    {
     "data": {
      "text/html": [
       "<div>\n",
       "<style scoped>\n",
       "    .dataframe tbody tr th:only-of-type {\n",
       "        vertical-align: middle;\n",
       "    }\n",
       "\n",
       "    .dataframe tbody tr th {\n",
       "        vertical-align: top;\n",
       "    }\n",
       "\n",
       "    .dataframe thead th {\n",
       "        text-align: right;\n",
       "    }\n",
       "</style>\n",
       "<table border=\"1\" class=\"dataframe\">\n",
       "  <thead>\n",
       "    <tr style=\"text-align: right;\">\n",
       "      <th></th>\n",
       "      <th>x1</th>\n",
       "      <th>y1</th>\n",
       "      <th>x2</th>\n",
       "      <th>y2</th>\n",
       "      <th>x3</th>\n",
       "      <th>y3</th>\n",
       "      <th>x4</th>\n",
       "      <th>y4</th>\n",
       "    </tr>\n",
       "  </thead>\n",
       "  <tbody>\n",
       "    <tr>\n",
       "      <th>x1</th>\n",
       "      <td>1.000</td>\n",
       "      <td>0.816</td>\n",
       "      <td>1.000</td>\n",
       "      <td>0.816</td>\n",
       "      <td>1.000</td>\n",
       "      <td>0.816</td>\n",
       "      <td>-0.500</td>\n",
       "      <td>-0.314</td>\n",
       "    </tr>\n",
       "    <tr>\n",
       "      <th>y1</th>\n",
       "      <td>0.816</td>\n",
       "      <td>1.000</td>\n",
       "      <td>0.816</td>\n",
       "      <td>0.750</td>\n",
       "      <td>0.816</td>\n",
       "      <td>0.469</td>\n",
       "      <td>-0.529</td>\n",
       "      <td>-0.489</td>\n",
       "    </tr>\n",
       "    <tr>\n",
       "      <th>x2</th>\n",
       "      <td>1.000</td>\n",
       "      <td>0.816</td>\n",
       "      <td>1.000</td>\n",
       "      <td>0.816</td>\n",
       "      <td>1.000</td>\n",
       "      <td>0.816</td>\n",
       "      <td>-0.500</td>\n",
       "      <td>-0.314</td>\n",
       "    </tr>\n",
       "    <tr>\n",
       "      <th>y2</th>\n",
       "      <td>0.816</td>\n",
       "      <td>0.750</td>\n",
       "      <td>0.816</td>\n",
       "      <td>1.000</td>\n",
       "      <td>0.816</td>\n",
       "      <td>0.588</td>\n",
       "      <td>-0.718</td>\n",
       "      <td>-0.478</td>\n",
       "    </tr>\n",
       "    <tr>\n",
       "      <th>x3</th>\n",
       "      <td>1.000</td>\n",
       "      <td>0.816</td>\n",
       "      <td>1.000</td>\n",
       "      <td>0.816</td>\n",
       "      <td>1.000</td>\n",
       "      <td>0.816</td>\n",
       "      <td>-0.500</td>\n",
       "      <td>-0.314</td>\n",
       "    </tr>\n",
       "    <tr>\n",
       "      <th>y3</th>\n",
       "      <td>0.816</td>\n",
       "      <td>0.469</td>\n",
       "      <td>0.816</td>\n",
       "      <td>0.588</td>\n",
       "      <td>0.816</td>\n",
       "      <td>1.000</td>\n",
       "      <td>-0.345</td>\n",
       "      <td>-0.155</td>\n",
       "    </tr>\n",
       "    <tr>\n",
       "      <th>x4</th>\n",
       "      <td>-0.500</td>\n",
       "      <td>-0.529</td>\n",
       "      <td>-0.500</td>\n",
       "      <td>-0.718</td>\n",
       "      <td>-0.500</td>\n",
       "      <td>-0.345</td>\n",
       "      <td>1.000</td>\n",
       "      <td>0.817</td>\n",
       "    </tr>\n",
       "    <tr>\n",
       "      <th>y4</th>\n",
       "      <td>-0.314</td>\n",
       "      <td>-0.489</td>\n",
       "      <td>-0.314</td>\n",
       "      <td>-0.478</td>\n",
       "      <td>-0.314</td>\n",
       "      <td>-0.155</td>\n",
       "      <td>0.817</td>\n",
       "      <td>1.000</td>\n",
       "    </tr>\n",
       "  </tbody>\n",
       "</table>\n",
       "</div>"
      ],
      "text/plain": [
       "       x1     y1     x2     y2     x3     y3     x4     y4\n",
       "x1  1.000  0.816  1.000  0.816  1.000  0.816 -0.500 -0.314\n",
       "y1  0.816  1.000  0.816  0.750  0.816  0.469 -0.529 -0.489\n",
       "x2  1.000  0.816  1.000  0.816  1.000  0.816 -0.500 -0.314\n",
       "y2  0.816  0.750  0.816  1.000  0.816  0.588 -0.718 -0.478\n",
       "x3  1.000  0.816  1.000  0.816  1.000  0.816 -0.500 -0.314\n",
       "y3  0.816  0.469  0.816  0.588  0.816  1.000 -0.345 -0.155\n",
       "x4 -0.500 -0.529 -0.500 -0.718 -0.500 -0.345  1.000  0.817\n",
       "y4 -0.314 -0.489 -0.314 -0.478 -0.314 -0.155  0.817  1.000"
      ]
     },
     "execution_count": 4,
     "metadata": {},
     "output_type": "execute_result"
    }
   ],
   "source": [
    "df.corr().applymap(lambda x: round(x, 3))"
   ]
  },
  {
   "cell_type": "code",
   "execution_count": 10,
   "metadata": {},
   "outputs": [
    {
     "data": {
      "image/png": "[encoded data removed]",
      "text/plain": [
       "<Figure size 576x576 with 4 Axes>"
      ]
     },
     "metadata": {
      "needs_background": "light"
     },
     "output_type": "display_data"
    }
   ],
   "source": [
    "fig, axs = plt.subplots(2, 2, figsize=(8, 8))\n",
    "axs = axs.ravel()\n",
    "cols = list(df.columns)\n",
    "for i, ax in enumerate(axs):\n",
    "    g = sns.regplot(x=cols[2*i], y=cols[2*i + 1], data=df, ax=ax)\n",
    "    ax.set_xlim(0, 20)\n",
    "    ax.set_ylim(0, 15)\n",
    "plt.tight_layout()\n",
    "plt.savefig('anscombe_quartet.png')"
   ]
  },
  {
   "cell_type": "code",
   "execution_count": null,
   "metadata": {},
   "outputs": [],
   "source": []
  }
 ],
 "metadata": {
  "kernelspec": {
   "display_name": "Python 3",
   "language": "python",
   "name": "python3"
  },
  "language_info": {
   "codemirror_mode": {
    "name": "ipython",
    "version": 3
   },
   "file_extension": ".py",
   "mimetype": "text/x-python",
   "name": "python",
   "nbconvert_exporter": "python",
   "pygments_lexer": "ipython3",
   "version": "3.7.0"
  }
 },
 "nbformat": 4,
 "nbformat_minor": 2
}
