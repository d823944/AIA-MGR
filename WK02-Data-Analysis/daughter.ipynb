{
 "cells": [
  {
   "cell_type": "markdown",
   "metadata": {},
   "source": [
    "### 一對夫婦計劃生孩子生到有女兒才停，或生了三個就停止。他們會擁有女兒的機率是多少?\n",
    "#### 第l步: 機率模型\n",
    "每一個孩子是女孩的機率是0.49，是男孩的機率是0.51。  \n",
    "各個孩子的性別是互相獨立的。"
   ]
  },
  {
   "cell_type": "code",
   "execution_count": 18,
   "metadata": {},
   "outputs": [],
   "source": [
    "import numpy as np"
   ]
  },
  {
   "cell_type": "markdown",
   "metadata": {},
   "source": [
    "#### 第2步: 分配隨機數字。\n",
    "用兩個數字模擬一個孩子的性別: 00,01,02,...,48=女孩; 49,50,51,...,99=男孩"
   ]
  },
  {
   "cell_type": "code",
   "execution_count": 19,
   "metadata": {},
   "outputs": [],
   "source": [
    "def get_a_baby():\n",
    "    # 生女兒(0-48)機率49%\n",
    "    # 生兒子(49-99)機率51%\n",
    "    if np.random.randint(0, 100, 1) <= 48:\n",
    "        return 'G'\n",
    "    else:\n",
    "        return 'B'"
   ]
  },
  {
   "cell_type": "code",
   "execution_count": 20,
   "metadata": {},
   "outputs": [],
   "source": [
    "def trial():\n",
    "    round = 1\n",
    "    babies = []\n",
    "    while round <= 3 and 'G' not in babies:\n",
    "        babies.append(get_a_baby())\n",
    "        round += 1\n",
    "    if 'G' in babies:\n",
    "        return 1\n",
    "    else:\n",
    "        return 0"
   ]
  },
  {
   "cell_type": "markdown",
   "metadata": {},
   "source": [
    "#### 第3步: 模擬生孩子策略\n",
    "從表A當中讀取一對一對的數字，直到這對夫婦有了女兒，或已有三個孩子。  \n",
    "10次重複中，有9次生女孩。會得到女孩的機率的估計是9/10=0.9。\n",
    "\n",
    "#### 如果機率模型正確的話，用數學計算會有女孩的真正機率是0.867。"
   ]
  },
  {
   "cell_type": "code",
   "execution_count": 22,
   "metadata": {},
   "outputs": [
    {
     "name": "stdout",
     "output_type": "stream",
     "text": [
      "有女孩的機率: 0.867\n"
     ]
    }
   ],
   "source": [
    "n_iter = 1000\n",
    "n_trial = 10\n",
    "probOfGetGirl = []\n",
    "\n",
    "for i in range(n_iter):\n",
    "    countOfGetGirl = 0\n",
    "    for j in range(n_trial):\n",
    "        countOfGetGirl += trial()\n",
    "    probOfGetGirl.append(countOfGetGirl / n_trial)\n",
    "\n",
    "print(f'有女孩的機率: {np.mean(probOfGetGirl):.3f}')"
   ]
  }
 ],
 "metadata": {
  "kernelspec": {
   "display_name": "Python 3",
   "language": "python",
   "name": "python3"
  },
  "language_info": {
   "codemirror_mode": {
    "name": "ipython",
    "version": 3
   },
   "file_extension": ".py",
   "mimetype": "text/x-python",
   "name": "python",
   "nbconvert_exporter": "python",
   "pygments_lexer": "ipython3",
   "version": "3.7.0"
  }
 },
 "nbformat": 4,
 "nbformat_minor": 2
}
